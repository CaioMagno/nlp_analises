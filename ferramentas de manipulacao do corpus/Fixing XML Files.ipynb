{
 "cells": [
  {
   "cell_type": "markdown",
   "metadata": {},
   "source": [
    "## Corrigindo os arquivos"
   ]
  },
  {
   "cell_type": "code",
   "execution_count": null,
   "metadata": {
    "collapsed": true
   },
   "outputs": [],
   "source": [
    "import pandas as pd\n",
    "import numpy as np\n",
    "\n",
    "import re\n",
    "    \n",
    "def fixXMLFile(originFile, outputFileName):\n",
    "    content = open(originFile,'r').readlines()\n",
    "    outputFile = open(outputFileName,'w')\n",
    "    \n",
    "    pattern = '.*(</unit id=\"\\d{4}\">)'\n",
    "    replaceToken = '</unit>'\n",
    "\n",
    "    newContent = []\n",
    "\n",
    "    for line in content:\n",
    "        result = re.match(pattern, line)\n",
    "        if result is not None:\n",
    "            line = line.replace(result.group(1), replaceToken)\n",
    "        outputFile.writelines(line)\n",
    "    outputFile.writelines('\\n</document>')\n",
    "    outputFile.close()"
   ]
  },
  {
   "cell_type": "code",
   "execution_count": null,
   "metadata": {
    "collapsed": true
   },
   "outputs": [],
   "source": [
    "from os import listdir\n",
    "from os.path import isfile, join\n",
    "import fnmatch\n",
    "import re\n",
    "\n",
    "sourcePath = '/home/caiomagno/Documentos/Mestrado/Pesquisa/Recursos/corpus/paragraphs/'\n",
    "outputPath = '/home/caiomagno/Documentos/Mestrado/Pesquisa/Recursos/corpus/gold_paragraphs/'\n",
    "\n",
    "files = [f for f in listdir(sourcePath) if isfile(join(sourcePath, f)) if re.match('.*\\.xml', f)]\n",
    "\n",
    "for file in files:\n",
    "    print('Processing file: ', file)\n",
    "    sourceFile = sourcePath + file\n",
    "    outputFile = outputPath + file\n",
    "    fixXMLFile(sourceFile, outputFile)"
   ]
  }
 ],
 "metadata": {
  "kernelspec": {
   "display_name": "Python 3",
   "language": "python",
   "name": "python3"
  },
  "language_info": {
   "codemirror_mode": {
    "name": "ipython",
    "version": 3.0
   },
   "file_extension": ".py",
   "mimetype": "text/x-python",
   "name": "python",
   "nbconvert_exporter": "python",
   "pygments_lexer": "ipython3",
   "version": "3.5.2"
  }
 },
 "nbformat": 4,
 "nbformat_minor": 0
}