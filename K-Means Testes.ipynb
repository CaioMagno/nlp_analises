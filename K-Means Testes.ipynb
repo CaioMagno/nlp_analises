{
 "cells": [
  {
   "cell_type": "markdown",
   "metadata": {},
   "source": [
    "# TESTE K-MEANS\n",
    "\n",
    "Verificar a performance do classificador não supervisionado K-means no agrupamento dos dados. Os dados serão representados como bag-of-words (unigram, bigram e léxico de adjetivos)\n",
    "\n",
    "## Obtenção dos dados"
   ]
  },
  {
   "cell_type": "code",
   "execution_count": 1,
   "metadata": {
    "collapsed": false
   },
   "outputs": [
    {
     "name": "stdout",
     "output_type": "stream",
     "text": [
      "SELECT PARAGRAPH, POLARITY FROM PARAGRAPHS WHERE POLARITY IS NOT NULL AND trim(POLARITY) <> \"\"\n",
      "1042  Paragraphs encountered\n"
     ]
    }
   ],
   "source": [
    "from database_utils import DatabaseConnector, build_dataframe\n",
    "\n",
    "db_connector = DatabaseConnector('localhost', 'root', '12345', 'CORPUS_VIES')\n",
    "retrieved_data = build_dataframe(db_connector.getDataTextAndLabel())\n",
    "\n",
    "N_paragraphs = retrieved_data.shape[0]"
   ]
  },
  {
   "cell_type": "markdown",
   "metadata": {},
   "source": [
    "## Importando as bibliotecas necessárias"
   ]
  },
  {
   "cell_type": "code",
   "execution_count": 2,
   "metadata": {
    "collapsed": false
   },
   "outputs": [],
   "source": [
    "from sklearn.feature_extraction.text import CountVectorizer\n",
    "from sklearn.feature_extraction.text import TfidfVectorizer\n",
    "from machine_learning_utils import MLWrapper\n",
    "from machine_learning_utils import Stemmer\n",
    "from sklearn.pipeline import Pipeline\n",
    "from nltk.corpus import stopwords\n",
    "\n",
    "from sklearn.cluster import KMeans\n",
    "\n",
    "import numpy as np"
   ]
  },
  {
   "cell_type": "markdown",
   "metadata": {},
   "source": [
    "## Testando com unigramas"
   ]
  },
  {
   "cell_type": "code",
   "execution_count": 6,
   "metadata": {
    "collapsed": false
   },
   "outputs": [
    {
     "name": "stderr",
     "output_type": "stream",
     "text": [
      "/home/caiomagno/anaconda3/lib/python3.5/site-packages/pandas/core/generic.py:3443: SettingWithCopyWarning: \n",
      "A value is trying to be set on a copy of a slice from a DataFrame\n",
      "\n",
      "See the caveats in the documentation: http://pandas.pydata.org/pandas-docs/stable/indexing.html#indexing-view-versus-copy\n",
      "  self._update_inplace(new_data)\n"
     ]
    }
   ],
   "source": [
    "input_data = retrieved_data[(retrieved_data['labels'] == \"PO\") | (retrieved_data['labels'] == \"NG\")]\n",
    "input_data['labels'].replace(to_replace = \"NG\", value = 0, inplace = True)\n",
    "input_data['labels'].replace(to_replace = \"PO\", value = 1, inplace = True)\n"
   ]
  },
  {
   "cell_type": "code",
   "execution_count": 9,
   "metadata": {
    "collapsed": false
   },
   "outputs": [
    {
     "name": "stdout",
     "output_type": "stream",
     "text": [
      "Usando somente os unigramas\n"
     ]
    },
    {
     "name": "stderr",
     "output_type": "stream",
     "text": [
      "/home/caiomagno/anaconda3/lib/python3.5/site-packages/sklearn/utils/validation.py:420: DataConversionWarning: Data with input dtype int64 was converted to float64.\n",
      "  warnings.warn(msg, DataConversionWarning)\n",
      "/home/caiomagno/anaconda3/lib/python3.5/site-packages/sklearn/utils/validation.py:420: DataConversionWarning: Data with input dtype int64 was converted to float64.\n",
      "  warnings.warn(msg, DataConversionWarning)\n",
      "/home/caiomagno/anaconda3/lib/python3.5/site-packages/sklearn/utils/validation.py:420: DataConversionWarning: Data with input dtype int64 was converted to float64.\n",
      "  warnings.warn(msg, DataConversionWarning)\n",
      "/home/caiomagno/anaconda3/lib/python3.5/site-packages/sklearn/utils/validation.py:420: DataConversionWarning: Data with input dtype int64 was converted to float64.\n",
      "  warnings.warn(msg, DataConversionWarning)\n",
      "/home/caiomagno/anaconda3/lib/python3.5/site-packages/sklearn/utils/validation.py:420: DataConversionWarning: Data with input dtype int64 was converted to float64.\n",
      "  warnings.warn(msg, DataConversionWarning)\n",
      "/home/caiomagno/anaconda3/lib/python3.5/site-packages/sklearn/utils/validation.py:420: DataConversionWarning: Data with input dtype int64 was converted to float64.\n",
      "  warnings.warn(msg, DataConversionWarning)\n"
     ]
    },
    {
     "name": "stdout",
     "output_type": "stream",
     "text": [
      "Total news classified: 701\n",
      "Score: 0.40678637734\n",
      "Accuracy: 0.516651930445\n",
      "Confusion matrix:\n",
      "[[200 191]\n",
      " [148 162]]\n",
      "Usando somente os unigramas e removendo as stopwords\n"
     ]
    },
    {
     "name": "stderr",
     "output_type": "stream",
     "text": [
      "/home/caiomagno/anaconda3/lib/python3.5/site-packages/sklearn/utils/validation.py:420: DataConversionWarning: Data with input dtype int64 was converted to float64.\n",
      "  warnings.warn(msg, DataConversionWarning)\n",
      "/home/caiomagno/anaconda3/lib/python3.5/site-packages/sklearn/utils/validation.py:420: DataConversionWarning: Data with input dtype int64 was converted to float64.\n",
      "  warnings.warn(msg, DataConversionWarning)\n",
      "/home/caiomagno/anaconda3/lib/python3.5/site-packages/sklearn/utils/validation.py:420: DataConversionWarning: Data with input dtype int64 was converted to float64.\n",
      "  warnings.warn(msg, DataConversionWarning)\n",
      "/home/caiomagno/anaconda3/lib/python3.5/site-packages/sklearn/utils/validation.py:420: DataConversionWarning: Data with input dtype int64 was converted to float64.\n",
      "  warnings.warn(msg, DataConversionWarning)\n",
      "/home/caiomagno/anaconda3/lib/python3.5/site-packages/sklearn/utils/validation.py:420: DataConversionWarning: Data with input dtype int64 was converted to float64.\n",
      "  warnings.warn(msg, DataConversionWarning)\n",
      "/home/caiomagno/anaconda3/lib/python3.5/site-packages/sklearn/utils/validation.py:420: DataConversionWarning: Data with input dtype int64 was converted to float64.\n",
      "  warnings.warn(msg, DataConversionWarning)\n"
     ]
    },
    {
     "name": "stdout",
     "output_type": "stream",
     "text": [
      "Total news classified: 701\n",
      "Score: 0.456017950035\n",
      "Accuracy: 0.49377394636\n",
      "Confusion matrix:\n",
      "[[133 258]\n",
      " [ 97 213]]\n",
      "Usando somente o TFiDF\n",
      "Total news classified: 701\n",
      "Score: 0.484496162689\n",
      "Accuracy: 0.515129187543\n",
      "Confusion matrix:\n",
      "[[148 243]\n",
      " [ 97 213]]\n"
     ]
    }
   ],
   "source": [
    "print(\"Usando somente os unigramas\")\n",
    "pipeline = Pipeline([\n",
    "        ('vectorizer', CountVectorizer()),\n",
    "        ('classifier', KMeans(n_clusters=2))\n",
    "    ])\n",
    "\n",
    "ml = MLWrapper(pipeline)\n",
    "ml.train(input_data, 2)\n",
    "\n",
    "print(\"Usando somente os unigramas e removendo as stopwords\")\n",
    "pipeline = Pipeline([\n",
    "        ('vectorizer', CountVectorizer(stop_words=stopwords.words('portuguese'))),\n",
    "        ('classifier', KMeans(n_clusters=2))\n",
    "    ])\n",
    "\n",
    "ml = MLWrapper(pipeline)\n",
    "ml.train(input_data, 2)\n",
    "\n",
    "print(\"Usando somente o TFiDF\")\n",
    "pipeline = Pipeline([\n",
    "        ('vectorizer', TfidfVectorizer()),\n",
    "        ('classifier', KMeans(n_clusters=2))\n",
    "    ])\n",
    "\n",
    "ml = MLWrapper(pipeline)\n",
    "ml.train(input_data, 2)\n"
   ]
  },
  {
   "cell_type": "code",
   "execution_count": 22,
   "metadata": {
    "collapsed": false
   },
   "outputs": [
    {
     "data": {
      "text/html": [
       "<div>\n",
       "<table border=\"1\" class=\"dataframe\">\n",
       "  <thead>\n",
       "    <tr style=\"text-align: right;\">\n",
       "      <th></th>\n",
       "      <th>labels</th>\n",
       "      <th>texts</th>\n",
       "    </tr>\n",
       "  </thead>\n",
       "  <tbody>\n",
       "    <tr>\n",
       "      <th>25</th>\n",
       "      <td>PO</td>\n",
       "      <td>Marina ainda comentou na TV o resultado do Ide...</td>\n",
       "    </tr>\n",
       "    <tr>\n",
       "      <th>26</th>\n",
       "      <td>PO</td>\n",
       "      <td>Segundo aliados  as acusações de que Marina nã...</td>\n",
       "    </tr>\n",
       "  </tbody>\n",
       "</table>\n",
       "</div>"
      ],
      "text/plain": [
       "   labels                                              texts\n",
       "25     PO  Marina ainda comentou na TV o resultado do Ide...\n",
       "26     PO  Segundo aliados  as acusações de que Marina nã..."
      ]
     },
     "execution_count": 22,
     "metadata": {},
     "output_type": "execute_result"
    }
   ],
   "source": [
    "# Separando os dados em treino e teste\n"
   ]
  }
 ],
 "metadata": {
  "anaconda-cloud": {},
  "kernelspec": {
   "display_name": "Python [conda root]",
   "language": "python",
   "name": "conda-root-py"
  },
  "language_info": {
   "codemirror_mode": {
    "name": "ipython",
    "version": 3
   },
   "file_extension": ".py",
   "mimetype": "text/x-python",
   "name": "python",
   "nbconvert_exporter": "python",
   "pygments_lexer": "ipython3",
   "version": "3.5.2"
  }
 },
 "nbformat": 4,
 "nbformat_minor": 1
}
