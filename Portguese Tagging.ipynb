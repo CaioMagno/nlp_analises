{
 "cells": [
  {
   "cell_type": "code",
   "execution_count": 1,
   "metadata": {
    "collapsed": true
   },
   "outputs": [],
   "source": [
    "import nltk\n",
    "from nltk.corpus import mac_morpho"
   ]
  },
  {
   "cell_type": "code",
   "execution_count": 8,
   "metadata": {
    "collapsed": false
   },
   "outputs": [],
   "source": [
    "size = len(mac_morpho.tagged_sents())\n",
    "tagged_sents = mac_morpho.tagged_sents()\n",
    "\n",
    "train_sents = tagged_sents[:int(size*0.9)]\n",
    "test_sents = tagged_sents[int(size*0.9):]"
   ]
  },
  {
   "cell_type": "markdown",
   "metadata": {},
   "source": [
    "### UNIGRAM MODEL"
   ]
  },
  {
   "cell_type": "code",
   "execution_count": 10,
   "metadata": {
    "collapsed": false
   },
   "outputs": [
    {
     "data": {
      "text/plain": [
       "0.8064003982012289"
      ]
     },
     "execution_count": 10,
     "metadata": {},
     "output_type": "execute_result"
    }
   ],
   "source": [
    "unigram_tagger = nltk.UnigramTagger(train = train_sents)\n",
    "unigram_tagger.evaluate(test_sents)"
   ]
  },
  {
   "cell_type": "markdown",
   "metadata": {},
   "source": [
    "### BIGRAM MODEL"
   ]
  },
  {
   "cell_type": "code",
   "execution_count": 11,
   "metadata": {
    "collapsed": false
   },
   "outputs": [
    {
     "data": {
      "text/plain": [
       "0.20806872403968282"
      ]
     },
     "execution_count": 11,
     "metadata": {},
     "output_type": "execute_result"
    }
   ],
   "source": [
    "bigram_tagger = nltk.BigramTagger(train = train_sents)\n",
    "bigram_tagger.evaluate(test_sents)"
   ]
  },
  {
   "cell_type": "markdown",
   "metadata": {},
   "source": [
    "### BIGRAM MODEL WITH BACKOFF"
   ]
  },
  {
   "cell_type": "code",
   "execution_count": 13,
   "metadata": {
    "collapsed": false
   },
   "outputs": [
    {
     "data": {
      "text/plain": [
       "0.8230922385088051"
      ]
     },
     "execution_count": 13,
     "metadata": {},
     "output_type": "execute_result"
    }
   ],
   "source": [
    "default_tagger = nltk.DefaultTagger('NN')\n",
    "unigram_tagger = nltk.UnigramTagger(train = train_sents, backoff=default_tagger)\n",
    "bigram_tagger = nltk.BigramTagger(train = train_sents, backoff= unigram_tagger)\n",
    "bigram_tagger.evaluate(test_sents)"
   ]
  },
  {
   "cell_type": "code",
   "execution_count": 14,
   "metadata": {
    "collapsed": false
   },
   "outputs": [
    {
     "data": {
      "text/plain": [
       "[('Operação', 'N'),\n",
       " ('Lava', 'NN'),\n",
       " ('Jato,', 'NN'),\n",
       " ('prendendo', 'NN'),\n",
       " ('temporariamente', 'ADV'),\n",
       " ('o', 'ART'),\n",
       " ('ex-ministro', 'N'),\n",
       " ('Antonio', 'NPROP'),\n",
       " ('Palocci.', 'NN'),\n",
       " ('Ele', 'PROPESS'),\n",
       " ('foi', 'VAUX'),\n",
       " ('ministro', 'N'),\n",
       " ('da', 'N'),\n",
       " ('Fazenda', 'N'),\n",
       " ('no', 'PREP'),\n",
       " ('governo', 'N'),\n",
       " ('Lula', 'NPROP'),\n",
       " ('e', 'KC'),\n",
       " ('chefe', 'N'),\n",
       " ('da', 'N'),\n",
       " ('Casa', 'NPROP'),\n",
       " ('Civil', 'NPROP'),\n",
       " ('na', 'NPROP'),\n",
       " ('gestão', 'N'),\n",
       " ('Dilma.', 'NN')]"
      ]
     },
     "execution_count": 14,
     "metadata": {},
     "output_type": "execute_result"
    }
   ],
   "source": [
    "bigram_tagger.tag('Operação Lava Jato, prendendo temporariamente o ex-ministro Antonio Palocci. Ele foi ministro da Fazenda no governo Lula e chefe da Casa Civil na gestão Dilma.'.split())"
   ]
  },
  {
   "cell_type": "code",
   "execution_count": null,
   "metadata": {
    "collapsed": true
   },
   "outputs": [],
   "source": []
  }
 ],
 "metadata": {
  "anaconda-cloud": {},
  "kernelspec": {
   "display_name": "Python [Root]",
   "language": "python",
   "name": "Python [Root]"
  },
  "language_info": {
   "codemirror_mode": {
    "name": "ipython",
    "version": 3
   },
   "file_extension": ".py",
   "mimetype": "text/x-python",
   "name": "python",
   "nbconvert_exporter": "python",
   "pygments_lexer": "ipython3",
   "version": "3.5.2"
  }
 },
 "nbformat": 4,
 "nbformat_minor": 0
}
