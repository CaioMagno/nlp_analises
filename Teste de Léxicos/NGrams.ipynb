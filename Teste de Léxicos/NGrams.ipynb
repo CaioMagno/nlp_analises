{
 "cells": [
  {
   "cell_type": "code",
<<<<<<< HEAD
   "execution_count": 18,
   "metadata": {
    "collapsed": false
   },
   "outputs": [
    {
     "name": "stdout",
     "output_type": "stream",
     "text": [
      "Dimensionalidade\n",
      "Unigram, 2 labels:  5074\n",
      "Unigram, 3 labels:  6085\n",
      "Bigram, 2 labels:  15652\n",
      "Bigram, 3 labels:  21378\n",
      "Unibigram, 2 labels:  20726\n",
      "Unibigram, 3 labels:  27463\n"
     ]
    }
   ],
=======
   "execution_count": 5,
   "metadata": {
    "collapsed": true
   },
   "outputs": [],
>>>>>>> 05fe6767baa0da0745baa4420220fde4f843685c
   "source": [
    "from utils import *\n",
    "import re\n",
    "from pprint import pprint\n",
    "from nltk.corpus import stopwords\n",
    "from sklearn.feature_extraction.text import CountVectorizer\n",
    "\n",
    "all_data3 = get_data_from_db()\n",
    "all_data2 = all_data3[(all_data3[\"labels\"]== \"PO\") | (all_data3[\"labels\"]== \"NG\")]\n",
    "\n",
    "unigramVectorizer = CountVectorizer(ngram_range=(1,1), stop_words= stopwords.words('portuguese'))\n",
    "bigramVectorizer = CountVectorizer(ngram_range=(2,2), stop_words= stopwords.words('portuguese'))\n",
    "unibigramVectorizer = CountVectorizer(ngram_range=(1,2), stop_words= stopwords.words('portuguese'))\n",
    "\n",
<<<<<<< HEAD
    "print(\"Dimensionalidade\")\n",
    "print(\"Unigram, 2 labels: \", unigramVectorizer.fit_transform(all_data2['texts']).shape[1])\n",
    "print(\"Unigram, 3 labels: \", unigramVectorizer.fit_transform(all_data3['texts']).shape[1])\n",
    "print(\"Bigram, 2 labels: \", bigramVectorizer.fit_transform(all_data2['texts']).shape[1])\n",
    "print(\"Bigram, 3 labels: \", bigramVectorizer.fit_transform(all_data3['texts']).shape[1])\n",
    "print(\"Unibigram, 2 labels: \", unibigramVectorizer.fit_transform(all_data2['texts']).shape[1])\n",
    "print(\"Unibigram, 3 labels: \", unibigramVectorizer.fit_transform(all_data3['texts']).shape[1])\n",
    "\n",
=======
>>>>>>> 05fe6767baa0da0745baa4420220fde4f843685c
    "def evaluate(data, vectorizer, n_folds):\n",
    "    print(\"Naive Bayes---------------------------------\")\n",
    "    run_cross_validation(data, vectorizer, MultinomialNB(), n_folds = n_folds)\n",
    "    print(\"\\nMaxEnt--------------------------------------\")\n",
    "    run_cross_validation(data, vectorizer, LogisticRegressionCV(fit_intercept=False, penalty= 'l2', dual= False), n_folds = n_folds)\n",
    "    print(\"\\nSVM-----------------------------------------\")\n",
    "    run_cross_validation(data, vectorizer, SVC(C=316), n_folds = n_folds)"
   ]
  },
  {
   "cell_type": "code",
   "execution_count": 10,
   "metadata": {
    "collapsed": false
   },
   "outputs": [
    {
     "name": "stdout",
     "output_type": "stream",
     "text": [
      "********************************************\n",
      "Unigrams, Positive and Negative Texts\n",
      "********************************************\n",
      "Naive Bayes---------------------------------\n",
      "Cross Validation:\n",
      "Accuracia media:  0.73754527163\n",
      "Desvio padrão:  0.0601986517496\n",
      "\n",
      "MaxEnt--------------------------------------\n",
      "Cross Validation:\n",
      "Accuracia media:  0.709014084507\n",
      "Desvio padrão:  0.0468377272777\n",
      "\n",
      "SVM-----------------------------------------\n",
      "Cross Validation:\n",
      "Accuracia media:  0.701911468813\n",
      "Desvio padrão:  0.0352562230983\n",
      "********************************************\n",
      "********************************************\n",
      "Unigrams, Positive, Negative and Neutral Texts\n",
      "********************************************\n",
      "Naive Bayes---------------------------------\n",
      "Cross Validation:\n",
      "Accuracia media:  0.584397677794\n",
      "Desvio padrão:  0.0298227444644\n",
      "\n",
      "MaxEnt--------------------------------------\n",
      "Cross Validation:\n",
      "Accuracia media:  0.56614658926\n",
      "Desvio padrão:  0.0356206697582\n",
      "\n",
      "SVM-----------------------------------------\n",
      "Cross Validation:\n",
      "Accuracia media:  0.570881712627\n",
      "Desvio padrão:  0.0372613464758\n",
      "********************************************\n"
     ]
    }
   ],
   "source": [
    "# Learning algorithms\n",
    "from sklearn.naive_bayes import MultinomialNB\n",
    "from sklearn.linear_model import LogisticRegressionCV\n",
    "from sklearn.svm import SVC\n",
    "\n",
    "print(\"********************************************\")\n",
    "print(\"Unigrams, Positive and Negative Texts\")\n",
    "print(\"********************************************\")\n",
    "evaluate(all_data2, unigramVectorizer, 10)\n",
    "print(\"********************************************\")\n",
    "\n",
    "print(\"********************************************\")\n",
    "print(\"Unigrams, Positive, Negative and Neutral Texts\")\n",
    "print(\"********************************************\")\n",
    "evaluate(all_data3, unigramVectorizer, 10)\n",
    "print(\"********************************************\")"
   ]
  },
  {
   "cell_type": "code",
   "execution_count": 11,
   "metadata": {
    "collapsed": false
   },
   "outputs": [
    {
     "name": "stdout",
     "output_type": "stream",
     "text": [
      "********************************************\n",
      "Bigrams, Positive and Negative Texts\n",
      "********************************************\n",
      "Naive Bayes---------------------------------\n",
      "Cross Validation:\n",
      "Accuracia media:  0.734507042254\n",
      "Desvio padrão:  0.0590358819346\n",
      "\n",
      "MaxEnt--------------------------------------\n",
      "Cross Validation:\n",
      "Accuracia media:  0.714587525151\n",
      "Desvio padrão:  0.0553565155093\n",
      "\n",
      "SVM-----------------------------------------\n",
      "Cross Validation:\n",
      "Accuracia media:  0.714668008048\n",
      "Desvio padrão:  0.0475093251352\n",
      "********************************************\n",
      "\n",
      "********************************************\n",
      "Bigrams, Positive and Negative Texts\n",
      "********************************************\n",
      "Naive Bayes---------------------------------\n",
      "Cross Validation:\n",
      "Accuracia media:  0.545174165457\n",
      "Desvio padrão:  0.0333419535107\n",
      "\n",
      "MaxEnt--------------------------------------\n",
      "Cross Validation:\n",
      "Accuracia media:  0.49996371553\n",
      "Desvio padrão:  0.0291411737666\n",
      "\n",
      "SVM-----------------------------------------\n",
      "Cross Validation:\n",
      "Accuracia media:  0.507710449927\n",
      "Desvio padrão:  0.0454607814949\n",
      "********************************************\n"
     ]
    }
   ],
   "source": [
    "print(\"********************************************\")\n",
    "print(\"Bigrams, Positive and Negative Texts\")\n",
    "print(\"********************************************\")\n",
    "evaluate(all_data2, bigramVectorizer, 10)\n",
    "print(\"********************************************\\n\")\n",
    "\n",
    "print(\"********************************************\")\n",
    "print(\"Bigrams, Positive, Negative and Neutral Texts\")\n",
    "print(\"********************************************\")\n",
    "evaluate(all_data3, bigramVectorizer, 10)\n",
    "print(\"********************************************\")"
   ]
  },
  {
   "cell_type": "code",
   "execution_count": 12,
   "metadata": {
    "collapsed": false
   },
   "outputs": [
    {
     "name": "stdout",
     "output_type": "stream",
     "text": [
      "********************************************\n",
      "Unigrams and Bigrams, Positive and Negative Texts\n",
      "********************************************\n",
      "Naive Bayes---------------------------------\n",
      "Cross Validation:\n",
      "Accuracia media:  0.753219315895\n",
      "Desvio padrão:  0.0549216354692\n",
      "\n",
      "MaxEnt--------------------------------------\n",
      "Cross Validation:\n",
      "Accuracia media:  0.713340040241\n",
      "Desvio padrão:  0.0553958329348\n",
      "\n",
      "SVM-----------------------------------------\n",
      "Cross Validation:\n",
      "Accuracia media:  0.71754527163\n",
      "Desvio padrão:  0.048562759383\n",
      "********************************************\n",
      "\n",
      "********************************************\n",
      "Unigrams and Bigrams, Positive, Negative and Neutral Texts\n",
      "********************************************\n",
      "Naive Bayes---------------------------------\n",
      "Cross Validation:\n",
      "Accuracia media:  0.588334542816\n",
      "Desvio padrão:  0.0352239285763\n",
      "\n",
      "MaxEnt--------------------------------------\n",
      "Cross Validation:\n",
      "Accuracia media:  0.56034107402\n",
      "Desvio padrão:  0.0311377206205\n",
      "\n",
      "SVM-----------------------------------------\n",
      "Cross Validation:\n",
      "Accuracia media:  0.574746008708\n",
      "Desvio padrão:  0.0394567546642\n",
      "********************************************\n"
     ]
    }
   ],
   "source": [
    "print(\"********************************************\")\n",
    "print(\"Unigrams and Bigrams, Positive and Negative Texts\")\n",
    "print(\"********************************************\")\n",
    "evaluate(all_data2, unibigramVectorizer, 10)\n",
    "print(\"********************************************\\n\")\n",
    "\n",
    "print(\"********************************************\")\n",
    "print(\"Unigrams and Bigrams, Positive, Negative and Neutral Texts\")\n",
    "print(\"********************************************\")\n",
    "evaluate(all_data3, unibigramVectorizer, 10)\n",
    "print(\"********************************************\")"
   ]
  },
  {
   "cell_type": "code",
   "execution_count": null,
   "metadata": {
    "collapsed": true
   },
   "outputs": [],
   "source": []
  }
 ],
 "metadata": {
  "anaconda-cloud": {},
  "kernelspec": {
   "display_name": "Python [conda root]",
   "language": "python",
   "name": "conda-root-py"
  },
  "language_info": {
   "codemirror_mode": {
    "name": "ipython",
    "version": 3
   },
   "file_extension": ".py",
   "mimetype": "text/x-python",
   "name": "python",
   "nbconvert_exporter": "python",
   "pygments_lexer": "ipython3",
   "version": "3.5.2"
  }
 },
 "nbformat": 4,
 "nbformat_minor": 1
}
