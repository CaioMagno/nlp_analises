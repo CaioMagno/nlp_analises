{
 "cells": [
  {
   "cell_type": "code",
   "execution_count": 1,
   "metadata": {
    "collapsed": true
   },
   "outputs": [],
   "source": [
    "from utils import *"
   ]
  },
  {
   "cell_type": "code",
   "execution_count": 9,
   "metadata": {
    "collapsed": false
   },
   "outputs": [],
   "source": [
    "all_data = get_data_from_db()\n",
    "po_data = all_data[all_data[\"labels\"] == \"PO\"][\"texts\"]\n",
    "ne_data = all_data[all_data[\"labels\"] == \"NE\"][\"texts\"]\n",
    "ng_data = all_data[all_data[\"labels\"] == \"NG\"][\"texts\"]\n"
   ]
  },
  {
   "cell_type": "code",
   "execution_count": 8,
   "metadata": {
    "collapsed": false
   },
   "outputs": [
    {
     "data": {
      "text/plain": [
       "24      a candidata foi apresentada como alguém que sa...\n",
       "25      marina ainda comentou na tv o resultado do ide...\n",
       "26      segundo aliados  as acusações de que marina nã...\n",
       "27      oficialmente  marina dirá que todas as acusaçõ...\n",
       "28      afirmará ainda que está sendo vítima de uma  c...\n",
       "34      marina disse na tv que vai investir o dinheiro...\n",
       "35       no meu governo os recursos do pré sal vão ser...\n",
       "43       foi uma injeção de ânimo  o presidente lula d...\n",
       "46      o candidato petista também minimizou a rejeiçã...\n",
       "47       mas também vamos atingir os grandes centros e...\n",
       "52      indiretamente  lula comparou skaf a celso russ...\n",
       "54      dilma fez uma homenagem a mulheres que foram p...\n",
       "55       fomos para a prisão porque naquela época luta...\n",
       "59      depois da posição da adversária  a campanha de...\n",
       "66      questionado sobre a acusação  cabral respondeu...\n",
       "68      a candidata do psb à presidência  marina silva...\n",
       "70      a presidente dilma rousseff  pt  disse neste s...\n",
       "79       na minha gestão  o dinheiro do pré sal será g...\n",
       "89      mais cedo  dilma participou de um evento com t...\n",
       "90      a presidente afirmou que não vai permitir que ...\n",
       "91       se houver qualquer briga dos eua com oriente ...\n",
       "92      a presidente também reforçou que vai mandar ao...\n",
       "93      marina direcionou o foco do escândalo para o g...\n",
       "101     o tucano chamou o caso de  as mais graves denú...\n",
       "103     aécio gravou um vídeo divulgado em suas página...\n",
       "104     o presidenciável disse que  é fundamental que ...\n",
       "126     nas palavras da petista na quinta  4    eleiçã...\n",
       "132     e esse é o trunfo central da campanha de dilma...\n",
       "133     a petista já deu provas de acreditar no acerto...\n",
       "139     a avalanche de intenções de voto em marina sil...\n",
       "                              ...                        \n",
       "977      nós queremos levar esse mesmo sistema  com so...\n",
       "979      se eu tivesse sabido qualquer coisa sobre o p...\n",
       "981     apesar de ser funcionário de carreira da petro...\n",
       "982      em todos os partidos tem gente corrupta  tem ...\n",
       "983     questionada durante a sabatina sobre pontos qu...\n",
       "984     dilma também defendeu a política adotada por s...\n",
       "985      eu vivenciei a falta absoluta de solução de a...\n",
       "986     para dilma  a estratégia defensiva adotada por...\n",
       "987      reagimos garantindo elevação salarial  reagim...\n",
       "988     por isso  quando foi questionada sobre se mant...\n",
       "989     a candidata destacou ainda que no g 20 há 100 ...\n",
       "990     na peça anterior  registrada pelo partido na j...\n",
       "993     o fim das duas peças é idêntico   tome muito c...\n",
       "994     a mudança no comercial ocorre num momento em q...\n",
       "1003     meu caso é muito um exemplo do que estou fala...\n",
       "1004    questionada sobre as dificuldades de negociar ...\n",
       "1007    a candidata afirmou que o projeto não pode ser...\n",
       "1008    a promessa de que enviaria a proposta ainda ne...\n",
       "1014     eu recebi para minha campanha  é uma campanha...\n",
       "1016     mas o que eu sou  sigo a frase  vocês têm de ...\n",
       "1017    a candidata ressaltou depois que apesar de acr...\n",
       "1018    para dilma  o papa francisco  chefe supremo da...\n",
       "1019    dilma voltou a se comprometer com a aprovação ...\n",
       "1020     primeiro eu quero dizer que tenho integral co...\n",
       "1021    a candidata defendeu ainda a igualdade de dire...\n",
       "1022     não temos condição de impor obrigatoriedade d...\n",
       "1027    a nova rodada da pesquisa ibope encomendada pe...\n",
       "1028    na pesquisa ibope do dia 3  dilma tinha 37  do...\n",
       "1031    em agenda de campanha em fortaleza  a candidat...\n",
       "1032    para falar do compromisso com programas sociai...\n",
       "Name: texts, dtype: object"
      ]
     },
     "execution_count": 8,
     "metadata": {},
     "output_type": "execute_result"
    }
   ],
   "source": []
  }
 ],
 "metadata": {
  "kernelspec": {
   "display_name": "Python [conda root]",
   "language": "python",
   "name": "conda-root-py"
  },
  "language_info": {
   "codemirror_mode": {
    "name": "ipython",
    "version": 3
   },
   "file_extension": ".py",
   "mimetype": "text/x-python",
   "name": "python",
   "nbconvert_exporter": "python",
   "pygments_lexer": "ipython3",
   "version": "3.5.2"
  }
 },
 "nbformat": 4,
 "nbformat_minor": 1
}
