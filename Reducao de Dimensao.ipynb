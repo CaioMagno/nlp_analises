{
 "cells": [
  {
   "cell_type": "markdown",
   "metadata": {},
   "source": [
    "# Metodos de redução de dimensionalidade\n",
    "\n",
    "Nesse arquivo usarei os métodos de redução de dimensinalidade PCA e tSNE afim de tentar visualizar alguma estrutura nos dados"
   ]
  },
  {
   "cell_type": "code",
   "execution_count": 1,
   "metadata": {
    "collapsed": true
   },
   "outputs": [],
   "source": [
    "import nltk\n",
    "import pymysql\n",
    "import numpy as np\n",
    "import machine_learning_utils\n",
    "import matplotlib.pyplot as plt\n",
    "\n",
    "from pickle import load\n",
    "from nltk import FreqDist\n",
    "from sklearn.svm import SVC\n",
    "from matplotlib import image\n",
    "from sklearn.manifold import t_sne\n",
    "from sklearn.decomposition import pca\n",
    "from sklearn.pipeline import Pipeline, FeatureUnion\n",
    "from sklearn.feature_extraction.text import CountVectorizer\n",
    "from database_utils import DatabaseConnector, build_dataframe, normalize_text\n"
   ]
  },
  {
   "cell_type": "code",
   "execution_count": null,
   "metadata": {
    "collapsed": true
   },
   "outputs": [],
   "source": [
    "db_conector = DatabaseConnector('localhost', 'root', '12345','COR')"
   ]
  }
 ],
 "metadata": {
  "anaconda-cloud": {},
  "kernelspec": {
   "display_name": "Python [conda root]",
   "language": "python",
   "name": "conda-root-py"
  },
  "language_info": {
   "codemirror_mode": {
    "name": "ipython",
    "version": 3
   },
   "file_extension": ".py",
   "mimetype": "text/x-python",
   "name": "python",
   "nbconvert_exporter": "python",
   "pygments_lexer": "ipython3",
   "version": "3.5.2"
  }
 },
 "nbformat": 4,
 "nbformat_minor": 1
}
