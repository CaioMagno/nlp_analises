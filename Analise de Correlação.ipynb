{
 "cells": [
  {
   "cell_type": "markdown",
   "metadata": {},
   "source": [
    "# Análise da Semelhança entre os parágrafos\n",
    "\n",
    "Este arquivo busca calcular a matriz de semelhança entre os parágrafos utilizando a distância cosseno como métrica e o bag-of-words como modelo de representação do conhecimento.\n",
    "\n",
    "Sejam u e v sentenças representadas como vetores linha bag-of-words sob o mesmo vocabulário. O ângulo entre esses dois vetores é uma medida de similaridade entre as duas sentenças. O cosseno do ângulo entre os dois vetores pode ser calculado facilmente:\n",
    "\n",
    "$$\n",
    "cos \\theta = \\frac{\\sum u_i v_i}{|u||v|} \\\\\n",
    "cos \\theta = \\frac{u}{|u|}*\\frac{v^T}{|v|} \\\\\n",
    "$$\n",
    "\n",
    "Se criarmos uma matriz $D_{NxM}$ onde N é o numero de sentenças existentes e M é o tamanho do vocabulário existente da seguinte forma:\n",
    "$$ D =\n",
    "\\begin{bmatrix}\n",
    "    \\frac{\\mathbf{u_1}}{|u_1|} \\\\\n",
    "    \\frac{\\mathbf{u_2}}{|u_2|} \\\\\n",
    "    \\vdots \\\\\n",
    "    \\frac{\\mathbf{u_N}}{|u_N|} \\\\\n",
    "\\end{bmatrix}\n",
    "$$\n",
    "\n",
    "Portanto, o calculo de todas as semelhanças pode ser realizado através da seguinte expressão:\n",
    "$\n",
    "    \\cos \\theta = D*D^T\n",
    "$"
   ]
  },
  {
   "cell_type": "code",
   "execution_count": 1,
   "metadata": {
    "collapsed": false
   },
   "outputs": [
    {
     "name": "stdout",
     "output_type": "stream",
     "text": [
      "SELECT PARAGRAPH, POLARITY FROM PARAGRAPHS WHERE POLARITY IS NOT NULL AND trim(POLARITY) <> \"\"\n",
      "1042  Paragraphs encountered\n"
     ]
    }
   ],
   "source": [
    "from database_utils import DatabaseConnector, build_dataframe\n",
    "\n",
    "db_connector = DatabaseConnector('localhost', 'root', '12345', 'CORPUS_VIES')\n",
    "retrieved_data = build_dataframe(db_connector.getDataTextAndLabel())"
   ]
  },
  {
   "cell_type": "code",
   "execution_count": 24,
   "metadata": {
    "collapsed": false
   },
   "outputs": [
    {
     "name": "stdout",
     "output_type": "stream",
     "text": [
      "['Os', 'candidatos', 'à', 'Presidência', 'mais', 'bem', 'posicionados', 'nas', 'pesquisas', 'arrecadaram', 'do', 'início', 'da', 'campanha', 'até', 'o', 'dia', '2', 'de', 'setembro', 'R', '185', 'milhões', 'em', 'doações', 'A', 'candidata', 'do', 'PT', 'Dilma', 'Rousseff', 'foi', 'a', 'que', 'mais', 'captou', 'R', '123', '3', 'milhões', 'quase', 'o', 'dobro', 'que', 'a', 'soma', 'de', 'seus', 'dois', 'principais', 'adversários', 'Aécio', 'Neves', 'do', 'PSDB', 'que', 'recebeu', 'R', '42', '3', 'milhões', 'e', 'Marina', 'Silva', 'do', 'PSB', 'com', 'R', '19', '5', 'milhões']\n"
     ]
    },
    {
     "data": {
      "text/plain": [
       "scipy.sparse.csr.csr_matrix"
      ]
     },
     "execution_count": 24,
     "metadata": {},
     "output_type": "execute_result"
    }
   ],
   "source": [
    "from sklearn.feature_extraction.text import CountVectorizer\n",
    "\n",
    "sample = retrieved_data['texts'][0]\n",
    "sample = sample.split()\n",
    "print(sample)\n",
    "\n",
    "cv = CountVectorizer()\n",
    "v = cv.fit_transform(retrieved_data['texts'])\n",
    "\n",
    "type(v[1])"
   ]
  },
  {
   "cell_type": "code",
   "execution_count": 49,
   "metadata": {
    "collapsed": false
   },
   "outputs": [
    {
     "data": {
      "text/plain": [
       "array([ 2.23606798,  1.41421356,  1.        ])"
      ]
     },
     "execution_count": 49,
     "metadata": {},
     "output_type": "execute_result"
    }
   ],
   "source": [
    "from pandas import DataFrame\n",
    "import numpy as np\n",
    "\n",
    "df = DataFrame(data = {\"texts\": [\"Sabe quem perguntou por você?\", \"Diz aí\", \"Ninguem\"]})\n",
    "v = cv.fit_transform(df['texts'])\n",
    "\n",
    "v = v.toarray()\n",
    "normas = np.linalg.norm(v, axis = 1) # Calcula a norma ao longo das colunas\n",
    "\n",
    "M"
   ]
  },
  {
   "cell_type": "code",
   "execution_count": 51,
   "metadata": {
    "collapsed": false
   },
   "outputs": [
    {
     "data": {
      "text/plain": [
       "5.000000011181281"
      ]
     },
     "execution_count": 51,
     "metadata": {},
     "output_type": "execute_result"
    }
   ],
   "source": []
  }
 ],
 "metadata": {
  "kernelspec": {
   "display_name": "Python 3",
   "language": "python",
   "name": "python3"
  },
  "language_info": {
   "codemirror_mode": {
    "name": "ipython",
    "version": 3
   },
   "file_extension": ".py",
   "mimetype": "text/x-python",
   "name": "python",
   "nbconvert_exporter": "python",
   "pygments_lexer": "ipython3",
   "version": "3.5.2"
  }
 },
 "nbformat": 4,
 "nbformat_minor": 0
}
